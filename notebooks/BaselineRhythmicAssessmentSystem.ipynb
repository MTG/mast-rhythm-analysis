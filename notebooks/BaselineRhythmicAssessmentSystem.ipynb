{
 "cells": [
  {
   "cell_type": "markdown",
   "metadata": {},
   "source": [
    "# Baseline Rhythmic Assessment System\n",
    "\n",
    "Throughout this notebook we are going to ilustrate the utility of our MAST Rhythmic subset for assessment tasks by creating a simple rhythmic assessment system which uses the previously calculated onset data to predict quantitative assessments (i.e. grades) for rhythmic performances.\n",
    "\n",
    "It requires that you have went through the _PreProcessDataFromMASTDataset.ipynb_ notebook."
   ]
  },
  {
   "cell_type": "markdown",
   "metadata": {},
   "source": [
    "Starting by importing necessary modules and creating some auxiliar functions to handle the data previously stored in the pre-processing phase."
   ]
  },
  {
   "cell_type": "code",
   "execution_count": 13,
   "metadata": {},
   "outputs": [
    {
     "name": "stdout",
     "output_type": "stream",
     "text": [
      "Onset bins for 53_rhy1_ref187859.wav: [1, 1, 0, 0, 0, 0, 0, 0, 0, 0, 0, 0, 0, 1, 0, 0, 0, 0, 0, 1, 0, 0, 0, 1, 0, 0, 1, 0, 0, 0, 1, 0, 0, 0, 0, 0, 0, 0, 0, 0, 0, 0, 0, 0, 0, 1, 0, 0, 0, 1, 0, 0, 1, 0, 0, 0, 1, 0, 0, 1]\n"
     ]
    }
   ],
   "source": [
    "import os\n",
    "import numpy as np\n",
    "import pip\n",
    "\n",
    "from sklearn.datasets.base import *\n",
    "from textdistance import *\n",
    "from scipy.spatial.distance import *\n",
    "\n",
    "DATA_FOLDER = \"../data/\"\n",
    "\n",
    "       \n",
    "### storage handlers ###\n",
    "def get_audio_index(file, performance_type):\n",
    "    file_path = os.path.join(DATA_FOLDER, 'Only %ss' % performance_type.capitalize(), 'list%ss' % performance_type)\n",
    "    with open(file_path, 'r') as list_files:\n",
    "        files = [x.strip() for x in list_files.readlines()]\n",
    "        return files.index(file)\n",
    "    \n",
    "def get_info(index, performance_type, info_file_format):   \n",
    "    file_path = os.path.join(DATA_FOLDER, 'Only %ss' % performance_type.capitalize(), info_file_format.format(performance_type.capitalize()))\n",
    "    \n",
    "    with open(file_path, 'r') as infos:\n",
    "        info = infos.readlines()[index]\n",
    "        return [int(x) for x in info.split()]\n",
    "    \n",
    "\n",
    "audio_file = '53_rhy1_ref187859.wav'\n",
    "idx = get_audio_index(audio_file, 'reference')\n",
    "\n",
    "print('Onset bins for %s:' % audio_file, get_info(idx, 'reference', 'MAST Onsets [{}s] [BINS]'))"
   ]
  },
  {
   "cell_type": "markdown",
   "metadata": {},
   "source": [
    "Now we define two extra functions designed to enrich the feature model with information regarding difference of beats between reference and performance and a normalized rhythmic Mean-Squared-Error originally proposed by Percival in http://percival-music.ca/research/masters-percival.pdf. The other distances comprised by the feature model are the [Levenshtein (aka Edit Distance)](https://en.wikipedia.org/wiki/Levenshtein_distance), [Damerau Levenshtein](https://en.wikipedia.org/wiki/Damerau%E2%80%93Levenshtein_distance), [Jaro](https://en.wikipedia.org/wiki/Jaro%E2%80%93Winkler_distance#Jaro_Similarity), [Jaro Winkler](https://en.wikipedia.org/wiki/Jaro%E2%80%93Winkler_distance), [Hamming](https://en.wikipedia.org/wiki/Hamming_distance), [Yule](https://reference.wolfram.com/language/ref/YuleDissimilarity.html) and [Matching](https://en.wikipedia.org/wiki/Matching_distance).\n",
    "\n",
    "The last function is responsible for deriving the targets (dependent variables) of our models according to the grades provided by the annotators. Two targets are considered: a continuous target regarding the average grade provided by the annotators and a binary target meaning whether or a performance was accepted. In this scenario a performance is successful if the average of its grade is greater or equal than 3."
   ]
  },
  {
   "cell_type": "code",
   "execution_count": 20,
   "metadata": {},
   "outputs": [
    {
     "name": "stdout",
     "output_type": "stream",
     "text": [
      "(3.8, 0.39999999999999997)\n",
      "1\n",
      "(1.8, 0.40000000000000002)\n",
      "0\n"
     ]
    }
   ],
   "source": [
    "def beat_difference(v1, v2):\n",
    "    return abs(v1.count(1) - v2.count(1))\n",
    "\n",
    "def mean_squared_error_for_rhythm(A_bin, E_bin, Km = 25 , Ks = 0.55):\n",
    "    '''\n",
    "    Implementation of a MSE function designed\n",
    "    for rhythmic assessment purposes. The original\n",
    "    algorithm is proposed by Percival in\n",
    "    http://percival-music.ca/research/masters-percival.pdf\n",
    "    '''\n",
    "    def closest_value(alist, value):\n",
    "        min_diff = float('inf')\n",
    "        c_value = None\n",
    "        \n",
    "        for element in alist:\n",
    "            if abs(value - element) < min_diff:\n",
    "                min_diff = abs(value - element)\n",
    "                c_value = element\n",
    "        \n",
    "        return c_value\n",
    "                \n",
    "        \n",
    "    A = [i for i in range(len(A_bin)) if A_bin[i]]\n",
    "    E = [i for i in range(len(E_bin)) if E_bin[i]]\n",
    "    \n",
    "    mse = 0\n",
    "    \n",
    "    for i in range(len(E)):\n",
    "        c_val = closest_value(A, E[i])\n",
    "        error = abs(c_val - E[i])\n",
    "        error = np.power(error,2)/len(E)\n",
    "        error = min(error, Km)\n",
    "        mse+=error\n",
    "    \n",
    "    for i in range(len(A)):\n",
    "        c_val = closest_value(E, A[i])\n",
    "        error = abs(c_val - A[i])\n",
    "        error = np.power(error,2)/len(A)\n",
    "        error = min(error, Km)\n",
    "        mse+=error\n",
    "    \n",
    "    return 100 - Ks * mse\n",
    "\n",
    "\n",
    "def get_class_for_performance(audio_name, multiclass=True):\n",
    "    annotations = []\n",
    "    for (dirpath, dirnames, filenames) in os.walk(os.path.join(DATA_FOLDER, \"Performances Annotations\")):\n",
    "        for file_name in filenames:\n",
    "            if file_name == 'listfiles.txt':\n",
    "                pass\n",
    "            else:\n",
    "                with open(os.path.join(dirpath, file_name), 'r') as annotator_file:\n",
    "                    for annotation in annotator_file.readlines():\n",
    "                        annotation = annotation.strip()\n",
    "                        if audio_name in annotation:\n",
    "                            grade = int(annotation.split()[1].split('Grade:')[1])\n",
    "                            annotations.append(grade)\n",
    "                            \n",
    "    # the average grade across all annotations is calculated according to the following:\n",
    "    # \"leave the max and min value out and compute an average of the rest\"\n",
    "    annotations.remove(max(annotations))\n",
    "    annotations.remove(min(annotations))\n",
    "    average_grade = sum(annotations)/len(annotations)\n",
    "    if multiclass:\n",
    "        return (average_grade, np.std(annotations))\n",
    "    # the binary class of a performance is 1 (accepted) if mode is 3 or higher. 0 (rejected) otherwise\n",
    "    return 1 if average_grade >= 3 else 0\n",
    "\n",
    "print(get_class_for_performance('55_rhy1_per121260_pass.wav'))\n",
    "print(get_class_for_performance('55_rhy1_per121260_pass.wav', multiclass=False))\n",
    "\n",
    "\n",
    "print(get_class_for_performance('52_rhy1_per157160_fail.wav'))\n",
    "print(get_class_for_performance('52_rhy1_per157160_fail.wav', multiclass=False))"
   ]
  },
  {
   "cell_type": "markdown",
   "metadata": {},
   "source": [
    "Finally, we join features and targets into a single dataset that will feed the Machine Learning models."
   ]
  },
  {
   "cell_type": "code",
   "execution_count": 34,
   "metadata": {},
   "outputs": [],
   "source": [
    "def load_rhythmic_performances():\n",
    "    features = []\n",
    "    target_multiclass = []\n",
    "    target_binary = []\n",
    "    \n",
    "    DISTANCE_FUNCTIONS = [beat_difference, mean_squared_error_for_rhythm, #rhythm-based features\n",
    "                          levenshtein, damerau_levenshtein, jaro, jaro_winkler, # text-based features\n",
    "                          hamming, yule, matching] # vector-based features\n",
    "    \n",
    "    with open('../data/Performances Annotations/listfiles.txt', 'r') as list_of_files,\\\n",
    "         open('../data/Only Performances/listperformances', 'r') as performances_file,\\\n",
    "         open('../data/Only Performances/MAST Onsets [Performances] [BINS]', 'r') as performances_onsets,\\\n",
    "         open('../data/Only References/listreferences', 'r') as references_file,\\\n",
    "         open('../data/Only References/MAST Onsets [References] [BINS]', 'r') as references_onsets:        \n",
    "        \n",
    "        for performance in list_of_files.readlines():\n",
    "            performance = performance.strip()\n",
    "            index = get_audio_index(performance,'performance')\n",
    "            \n",
    "            performance_bins = get_info(index, 'performance', 'MAST Onsets [{}s] [BINS]')\n",
    "            reference_bins = get_info(index, 'reference', 'MAST Onsets [{}s] [BINS]')   \n",
    "            \n",
    "            # model features\n",
    "            features.append([distance_function(performance_bins, reference_bins) for distance_function in DISTANCE_FUNCTIONS])         \n",
    "            \n",
    "            # model targets\n",
    "            target_multiclass.append(get_class_for_performance(performance))\n",
    "            target_binary.append(get_class_for_performance(performance, multiclass=False))\n",
    "            \n",
    "    return Bunch(data=np.asarray(features), target_multiclass=np.asarray(target_multiclass), target_binary=np.asarray(target_binary)) \n",
    "\n",
    "# loading rhythmic dataset\n",
    "mast = load_rhythmic_performances()"
   ]
  },
  {
   "cell_type": "markdown",
   "metadata": {},
   "source": [
    "The first analysis we can provide with this new data is to check the consistency of the grades provided by the annotators. For such, we plot the distribution of grades as well as the deviation across all anotators."
   ]
  },
  {
   "cell_type": "code",
   "execution_count": 36,
   "metadata": {},
   "outputs": [
    {
     "name": "stdout",
     "output_type": "stream",
     "text": [
      "################ Consistency of Annotations ################\n",
      "\n",
      "Average of standard deviations: 0.493443123979\n",
      "Max standard deviation: 0.979795897113\n",
      "Performances with no standard deviation: 38\n",
      "\n"
     ]
    },
    {
     "data": {
      "image/png": "[encoded data removed]",
      "text/plain": [
       "<Figure size 1080x432 with 1 Axes>"
      ]
     },
     "metadata": {
      "needs_background": "light"
     },
     "output_type": "display_data"
    }
   ],
   "source": [
    "# loading model data\n",
    "X, y_binary, y_multiclass = mast.data, mast.target_binary, mast.target_multiclass\n",
    "\n",
    "x = np.arange(1, len(mast.target_multiclass) + 1) # for plotting purposes\n",
    "\n",
    "binary_target = [y_m[i][0] for i in range(len(y_m))]\n",
    "stdev = np.array([y_m[i][1] for i in range(len(y_m))])\n",
    "\n",
    "non_zero_stdevs = [x for x in e if x > 0]\n",
    "print(\"################ Consistency of Annotations ################\")\n",
    "print()\n",
    "print(\"Average of standard deviations:\", sum(non_zero_stdevs)/len(non_zero_stdevs))\n",
    "print(\"Max standard deviation:\", max(non_zero_stdevs))\n",
    "print(\"Performances with no standard deviation:\", len(e) - np.count_nonzero(e))\n",
    "print()\n",
    "\n",
    "plt.figure(figsize=(15,6))\n",
    "plt.title(\"Annotators Consistency\")\n",
    "plt.ylabel(\"Average grade\")\n",
    "plt.xlabel(\"Sample index\")\n",
    "error_bar = plt.errorbar(x, binary_target, stdev, marker='^', capsize=2, elinewidth=1, markeredgewidth=1,label=\"Standard deviation of grades\", ls='none')\n",
    "plt.legend()\n",
    "\n",
    "plt.show()"
   ]
  },
  {
   "cell_type": "markdown",
   "metadata": {},
   "source": [
    "In order to allow for the creation of Machine Learning models and measurement of their respectives performances, we import the necessary modules and create a learning curve plotting function."
   ]
  },
  {
   "cell_type": "code",
   "execution_count": 27,
   "metadata": {
    "scrolled": false
   },
   "outputs": [],
   "source": [
    "import numpy as np \n",
    "import matplotlib.pyplot as plt\n",
    "\n",
    "from sklearn.linear_model import LinearRegression, LogisticRegression\n",
    "from sklearn.model_selection import learning_curve, KFold, cross_val_score\n",
    "from sklearn.metrics import mean_absolute_error\n",
    "\n",
    "def plot_learning_curve(estimator, title, X, y, ylim=None, cv=None,\n",
    "                        n_jobs=None):\n",
    "    plt.figure()\n",
    "    plt.title(title)\n",
    "    if ylim is not None:\n",
    "        plt.ylim(*ylim)\n",
    "    plt.xlabel(\"Training examples\")\n",
    "    plt.ylabel(\"Score\")\n",
    "    train_sizes, train_scores, test_scores = learning_curve(\n",
    "        estimator, X, y, cv=cv, n_jobs=n_jobs)  \n",
    "    train_scores_mean = np.mean(train_scores, axis=1)\n",
    "    train_scores_std = np.std(train_scores, axis=1)\n",
    "    test_scores_mean = np.mean(test_scores, axis=1)\n",
    "    test_scores_std = np.std(test_scores, axis=1)\n",
    "    plt.grid()\n",
    "    plt.fill_between(train_sizes, train_scores_mean - train_scores_std,\n",
    "                     train_scores_mean + train_scores_std, alpha=0.1,\n",
    "                     color=\"r\")\n",
    "    plt.fill_between(train_sizes, test_scores_mean - test_scores_std,\n",
    "                     test_scores_mean + test_scores_std, alpha=0.1, color=\"g\")\n",
    "    plt.plot(train_sizes, train_scores_mean, 'o-', color=\"r\",\n",
    "             label=\"Training score\")\n",
    "    plt.plot(train_sizes, test_scores_mean, 'o-', color=\"g\",\n",
    "             label=\"Cross-validation score\")\n",
    "\n",
    "    plt.legend(loc=\"best\")\n",
    "    return plt"
   ]
  },
  {
   "cell_type": "markdown",
   "metadata": {},
   "source": [
    "The first model to be evaluated is a Logistic Regression classifier used to predict fail/pass judgments. The classifier is trained with the the binary target and is ran multiple times with different training set configurations using a 5-fold cross validation. The learning curve for such model is then presented. Maximum accuracy obtained is 0.75(?)."
   ]
  },
  {
   "cell_type": "code",
   "execution_count": 30,
   "metadata": {},
   "outputs": [
    {
     "data": {
      "image/png": "[encoded data removed]",
      "text/plain": [
       "<Figure size 432x288 with 1 Axes>"
      ]
     },
     "metadata": {
      "needs_background": "light"
     },
     "output_type": "display_data"
    }
   ],
   "source": [
    "# setting up a 5-fold cross validation for estimators\n",
    "cv = KFold(n_splits=5, shuffle=True, random_state=0)\n",
    "title = r\"Learning Curves (Logistic Regression / Target: binary)\"\n",
    "\n",
    "logit_reg_estimator = LogisticRegression()\n",
    "\n",
    "plot_learning_curve(logit_reg_estimator, title, X, y_binary, (.6, 1), cv=cv)\n",
    "\n",
    "plt.show()"
   ]
  },
  {
   "cell_type": "markdown",
   "metadata": {},
   "source": [
    "Finally, our second model presents us a Linear Regression estimator for fractional grades. After training the model using the same aforementioned cross validation mechanism, we achieve the mean absolute errors listed below. Comparisons are made with dumb estimators."
   ]
  },
  {
   "cell_type": "code",
   "execution_count": 33,
   "metadata": {},
   "outputs": [
    {
     "name": "stdout",
     "output_type": "stream",
     "text": [
      "################ Linear Regression Model for grade estimation ################\n",
      "\n",
      "Mean absolute error: Dumb Estimator (Only Grades 2) -> 1.1275\n",
      "Mean absolute error: Dumb Estimator (Only Grades 3) -> 0.7175\n",
      "Mean absolute error: Dumb Estimator (Random Grades) -> 1.1125\n",
      "Mean absolute error: MAST Estimator (5-fold cross validation) -> 0.598837845546\n"
     ]
    }
   ],
   "source": [
    "linear_reg_estimator = LinearRegression()\n",
    "linear_reg_estimator.fit(X, mast.target_multiclass[:,0])\n",
    "# fitting dumb model which assigns 2, 3 and random values to all performances to be estimated\n",
    "base_random_grades = [1,1,1,1,2,2,2,2,3,3,3,3,4,4,4,4]\n",
    "\n",
    "mean_absolute_errors_random = []\n",
    "mean_absolute_errors_only_twos = []\n",
    "mean_absolute_errors_only_threes = []\n",
    "\n",
    "for train_index, test_index in cv.split(X):\n",
    "    y_test = mast.target_multiclass[:,0][test_index]\n",
    "    \n",
    "    np.random.shuffle(base_random_grades)\n",
    "    mean_absolute_errors_random.append(mean_absolute_error(y_test, base_random_grades)) \n",
    "    \n",
    "    predictions_all_two = np.repeat(2, len(y_test))\n",
    "    mean_absolute_errors_only_twos.append(mean_absolute_error(y_test, predictions_all_two))\n",
    "    \n",
    "    predictions_all_three = np.repeat(3, len(y_test))    \n",
    "    mean_absolute_errors_only_threes.append(mean_absolute_error(y_test, predictions_all_three)) \n",
    "    \n",
    "# running cross validation over our dataset\n",
    "cross_val_errors = cross_val_score(linear_reg_estimator, X, mast.target_multiclass[:,0], scoring='neg_mean_absolute_error', cv=cv)\n",
    "\n",
    "print(\"################ Linear Regression Model for grade estimation ################\")\n",
    "print()\n",
    "print(\"Mean absolute error: Dumb Estimator (Only Grades 2) ->\", sum(mean_absolute_errors_only_twos)/len(mean_absolute_errors_only_twos))\n",
    "print(\"Mean absolute error: Dumb Estimator (Only Grades 3) ->\", sum(mean_absolute_errors_only_threes)/len(mean_absolute_errors_only_threes))\n",
    "print(\"Mean absolute error: Dumb Estimator (Random Grades) ->\", sum(mean_absolute_errors_random)/len(mean_absolute_errors_random))\n",
    "print(\"Mean absolute error: MAST Estimator (5-fold cross validation) ->\", abs(sum(cross_val_errors)/len(cross_val_errors)))"
   ]
  },
  {
   "cell_type": "code",
   "execution_count": null,
   "metadata": {},
   "outputs": [],
   "source": []
  }
 ],
 "metadata": {
  "kernelspec": {
   "display_name": "Python 3",
   "language": "python",
   "name": "python3"
  },
  "language_info": {
   "codemirror_mode": {
    "name": "ipython",
    "version": 3
   },
   "file_extension": ".py",
   "mimetype": "text/x-python",
   "name": "python",
   "nbconvert_exporter": "python",
   "pygments_lexer": "ipython3",
   "version": "3.5.2"
  }
 },
 "nbformat": 4,
 "nbformat_minor": 2
}
