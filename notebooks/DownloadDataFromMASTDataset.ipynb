{
 "cells": [
  {
   "cell_type": "markdown",
   "metadata": {},
   "source": [
    "# Downloading audio files from MAST Rhytmic subset\n",
    "\n",
    "This is an auxiliary notebook that targets at the download of audio and annotations consisting of user evaluations for a subset of references and performances from the original MAST Rhythmic dataset. The following code also downloads the full dataset for further comparison purposes.\n",
    "\n",
    "All the downloaded data will be stored in the _data/_ folder in the root of this project. The _Only Performances_ directory will contain the audio for all performances along with a _listperformances_ file which lists all file names. The _Only References_ directory will contain the audio for all references along with a _listreferences_ file which lists all file names. Please note that the i-eth file in the _listreferences_ file is the reference for the i-eth performance listed in in the _listperformances_ file\n",
    "\n",
    "**IMPORTANT!** If you run into problem running this notebook, an alternative way to access the required data is to simply download it from the following Zenodo entries:\n",
    "\n",
    "https://zenodo.org/record/2620357 (The full MAST rhythmic dataset)<br>\n",
    "https://zenodo.org/record/2619499 (The re-annotated subset)\n",
    "\n",
    "Unzip them and place all folders under a \"data\" folder in the main directory of the repository. Then, you can continue with the rest of the notebooks."
   ]
  },
  {
   "cell_type": "code",
   "execution_count": 1,
   "metadata": {},
   "outputs": [
    {
     "name": "stdout",
     "output_type": "stream",
     "text": [
      "Downloading file rhy_m4a.tar.xz\n",
      "Downloading file MAST subset [Performances].tar.xz\n",
      "Downloading file Performances Annotations.tar.gz\n",
      "Downloading file MAST subset [References].tar.xz\n",
      "\n",
      "All folders and files were downloaded and stored in ../data/\n"
     ]
    }
   ],
   "source": [
    "import urllib.request\n",
    "import os\n",
    "import tarfile\n",
    "\n",
    "\n",
    "FILES = {\n",
    "    'https://www.dropbox.com/s/54w5ohm9rh9q9cb/MAST%20subset%20%5BReferences%5D.tar.xz?dl=1' : 'MAST subset [References].tar.xz',\n",
    "    'https://www.dropbox.com/s/rinjhw4gb5mj286/MAST%20subset%20%5BPerformances%5D.tar.xz?dl=1' : 'MAST subset [Performances].tar.xz',\n",
    "    'https://www.dropbox.com/s/yzvicftsjt6rr8w/Performances%20Annotations.tar.xz?dl=1' : 'Performances Annotations.tar.gz',\n",
    "    'https://www.dropbox.com/s/zrtznm51ddtvwcr/rhy_m4a.tar.xz?dl=1': 'rhy_m4a.tar.xz'\n",
    "}\n",
    "\n",
    "DESTINATION_FOLDER = \"../data/\"\n",
    "\n",
    "if not os.path.exists(DESTINATION_FOLDER):\n",
    "    os.makedirs(DESTINATION_FOLDER)\n",
    "\n",
    "for file_url in FILES.keys():\n",
    "    file_name = FILES[file_url]\n",
    "    \n",
    "    print(\"Downloading file %s\" %  file_name)\n",
    "    \n",
    "    # downloading file\n",
    "    urllib.request.urlretrieve(file_url, os.path.join(DESTINATION_FOLDER, file_name))\n",
    "    \n",
    "    # extracting file\n",
    "    tar = tarfile.open(os.path.join(DESTINATION_FOLDER, file_name))\n",
    "    tar.extractall(DESTINATION_FOLDER)\n",
    "    tar.close()\n",
    "    os.remove(os.path.join(DESTINATION_FOLDER, file_name))\n",
    "  \n",
    "print()\n",
    "print(\"All folders and files were downloaded and stored in %s\" % DESTINATION_FOLDER)\n",
    "    "
   ]
  }
 ],
 "metadata": {
  "kernelspec": {
   "display_name": "Python 3",
   "language": "python",
   "name": "python3"
  },
  "language_info": {
   "codemirror_mode": {
    "name": "ipython",
    "version": 3
   },
   "file_extension": ".py",
   "mimetype": "text/x-python",
   "name": "python",
   "nbconvert_exporter": "python",
   "pygments_lexer": "ipython3",
   "version": "3.5.2"
  }
 },
 "nbformat": 4,
 "nbformat_minor": 2
}
