{
 "cells": [
  {
   "cell_type": "markdown",
   "metadata": {},
   "source": [
    "# MAST Rhytmic Analysis\n",
    "\n",
    "This notebook aims at the rhytmic analysis of percussion performances.\n",
    "\n",
    "Along its content, the notebook extracts and analyses onset information comprising student's and teacher's performances so we can then experiment with Machine Learning approaches to check useful distance metrics that better assess student's rhytmic performances.\n",
    "\n",
    "[NOTE] For the proper execution of this beta notebook, Please ensure that the MAST rhytmic dataset is located in the \"data\" folder according to the following hierachy:\n",
    "\n",
    "_PROJECT ROOT_  \n",
    " &nbsp;&nbsp;&nbsp;&nbsp; data/  \n",
    " &nbsp;&nbsp;&nbsp;&nbsp;&nbsp;&nbsp;&nbsp;&nbsp; MAST_rhythm_subset/  \n",
    " &nbsp;&nbsp;&nbsp;&nbsp;&nbsp;&nbsp;&nbsp;&nbsp;&nbsp;&nbsp;&nbsp;&nbsp;_ALL DATA FILES_\n",
    "    \n",
    "\n",
    "\n",
    "We can now start our analysis by importing all MIR necessary libraries:"
   ]
  },
  {
   "cell_type": "code",
   "execution_count": 8,
   "metadata": {},
   "outputs": [],
   "source": [
    "import os\n",
    "from essentia.standard import *\n",
    "from essentia import Pool, array\n",
    "import matplotlib.pyplot as plt\n",
    "import numpy as np\n",
    "import IPython.display as ipd"
   ]
  },
  {
   "cell_type": "markdown",
   "metadata": {},
   "source": [
    "For visualisation purposes, let's plot the onset representations for a specific assignments. The following code will load the audio files as monophonic signal, extract their onset times and plot this information. Such process will be repeated for two pairs of songs: a pair (reference recording, student's performance) from a sucessful assignment and another pair from a failed assignment.\n",
    "\n",
    "First of all, let's set the necessary parameters and load onset detection required functions:"
   ]
  },
  {
   "cell_type": "code",
   "execution_count": 36,
   "metadata": {},
   "outputs": [],
   "source": [
    "dataset_dir = 'data/MAST_rhythm_subset'\n",
    "\n",
    "approved_assignment = ['51_rhy1_ref154160.wav', '51_rhy1_per154160_pass.wav']\n",
    "failed_assignment = ['51_rhy1_ref166260.wav', '51_rhy1_per166260_fail.wav']\n",
    "\n",
    "# Setting audio processing parameters\n",
    "fs = 44100\n",
    "dur_in_secs=30\n",
    "t = np.arange(dur_in_secs*fs)/float(fs)\n",
    "zero_array = t*0 #used only for plotting purposes\n",
    "window_size=1024\n",
    "hop_size=512\n",
    "\n",
    "# Loading Essentia's necessary tools\n",
    "od_hfc = OnsetDetection(method='hfc')\n",
    "# od_complex = OnsetDetection(method='complex')\n",
    "w = Windowing(type = 'hann')\n",
    "fft = FFT() # this gives us a complex FFT\n",
    "c2p = CartesianToPolar() # and this turns it into a pair (magnitude, phase)\n",
    "onsets = Onsets()"
   ]
  },
  {
   "cell_type": "markdown",
   "metadata": {},
   "source": [
    "Next, we extract the onset times for each pair (reference, performance):"
   ]
  },
  {
   "cell_type": "code",
   "execution_count": 39,
   "metadata": {},
   "outputs": [
    {
     "name": "stdout",
     "output_type": "stream",
     "text": [
      "data/MAST_rhythm_subset/51_rhy1_ref154160.wav\n",
      "[ 0.11609977  0.66176873  1.21904767  1.61378682  1.98530614  2.31038547\n",
      "  3.14630389  3.44816327  3.71519279  3.95900226  4.21442175]\n",
      "data/MAST_rhythm_subset/51_rhy1_per154160_pass.wav\n",
      "[ 0.12770975  0.67337871  1.20743763  1.59056687  1.97369611  2.24072552\n",
      "  3.16952372  3.44816327  3.70358276  3.98222232  4.34213161]\n"
     ]
    }
   ],
   "source": [
    "\n",
    "# For the approved performance\n",
    "for file in approved_assignment:\n",
    "    file_name = os.path.join(dataset_dir, file)\n",
    "    # Loading file as a monophonic audio\n",
    "    x = MonoLoader(filename = file_name, sampleRate = fs)()\n",
    "    # Let's use only the first five seconds of the signals\n",
    "    x = x[:dur_in_secs*fs] \n",
    "    x = x/np.max(np.abs(x))\n",
    "    \n",
    "    pool = Pool()\n",
    "    for frame in FrameGenerator(x, frameSize = window_size, hopSize = hop_size):\n",
    "        mag, phase, = c2p(fft(w(frame)))\n",
    "        pool.add('features.hfc', od_hfc(mag, phase))        \n",
    "\n",
    "        "
   ]
  },
  {
   "cell_type": "code",
   "execution_count": null,
   "metadata": {},
   "outputs": [],
   "source": []
  }
 ],
 "metadata": {
  "kernelspec": {
   "display_name": "Python 3",
   "language": "python",
   "name": "python3"
  },
  "language_info": {
   "codemirror_mode": {
    "name": "ipython",
    "version": 3
   },
   "file_extension": ".py",
   "mimetype": "text/x-python",
   "name": "python",
   "nbconvert_exporter": "python",
   "pygments_lexer": "ipython3",
   "version": "3.5.2"
  }
 },
 "nbformat": 4,
 "nbformat_minor": 2
}
