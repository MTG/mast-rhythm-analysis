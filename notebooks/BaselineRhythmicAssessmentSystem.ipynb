{
 "cells": [
  {
   "cell_type": "markdown",
   "metadata": {},
   "source": [
    "# Baseline Rhythmic Assessment System\n",
    "\n",
    "### This notebook aims at the creation of a simple baseline rhythmic assessment system which exemplifies the usage of the MAST Rhythmic subset"
   ]
  },
  {
   "cell_type": "markdown",
   "metadata": {},
   "source": [
    "### Starting by creating some auxiliar functions to handle the stored data and functions that prepare the raw dataset to feed Machine Learning classifiers. The model features are the edit distance (aka Levenshtein distance) and the beat difference whereas the targets are the average of grades provided by annotators and binary assessments (fail or pass) according to these grades"
   ]
  },
  {
   "cell_type": "code",
   "execution_count": 155,
   "metadata": {},
   "outputs": [],
   "source": [
    "import os\n",
    "import sklearn.datasets\n",
    "import numpy as np\n",
    "\n",
    "from statistics import median\n",
    "\n",
    "DATA_FOLDER = \"../data/\"\n",
    "\n",
    "### storage handlers ###\n",
    "def get_audio_index(file, performance_type):\n",
    "    file_path = os.path.join(DATA_FOLDER, 'Only %ss' % performance_type.capitalize(), 'list%ss' % performance_type)\n",
    "    with open(file_path, 'r') as list_files:\n",
    "        files = [x.strip() for x in list_files.readlines()]\n",
    "        return files.index(file)\n",
    "    \n",
    "def get_info(index, performance_type, info_file_format):   \n",
    "    file_path = os.path.join(DATA_FOLDER, 'Only %ss' % performance_type.capitalize(), info_file_format.format(performance_type.capitalize()))\n",
    "    \n",
    "    with open(file_path, 'r') as infos:\n",
    "        info = infos.readlines()[index]\n",
    "        return [int(x) for x in info.split()]\n",
    "  \n",
    "\n",
    "### distance measures for binary vectors ###\n",
    "def levenshtein(s1, s2):\n",
    "    if len(s1) > len(s2):\n",
    "        s1, s2 = s2, s1\n",
    "\n",
    "    distances = range(len(s1) + 1)\n",
    "    for i2, c2 in enumerate(s2):\n",
    "        distances_ = [i2+1]\n",
    "        for i1, c1 in enumerate(s1):\n",
    "            if c1 == c2:\n",
    "                distances_.append(distances[i1])\n",
    "            else:\n",
    "                distances_.append(1 + min((distances[i1], distances[i1 + 1], distances_[-1])))\n",
    "        distances = distances_\n",
    "    return distances[-1]\n",
    "\n",
    "def beat_difference(s1, s2):\n",
    "    return abs(s1.count(1) - s2.count(1))\n",
    "    \n",
    "def get_class_for_performance(audio_name, multiclass=True):\n",
    "    annotations = []\n",
    "    for (dirpath, dirnames, filenames) in os.walk(os.path.join(DATA_FOLDER, \"Performances Annotations\")):\n",
    "        for file_name in filenames:\n",
    "            if file_name == 'listfiles.txt':\n",
    "                pass\n",
    "            else:\n",
    "                with open(os.path.join(dirpath, file_name), 'r') as annotator_file:\n",
    "                    for annotation in annotator_file.readlines():\n",
    "                        annotation = annotation.strip()\n",
    "                        if audio_name in annotation:\n",
    "                            grade = int(annotation.split()[1].split('Grade:')[1])\n",
    "                            annotations.append(grade)\n",
    "                            \n",
    "    # the average grade across all annotations is calculated according to the following:\n",
    "    # \"leave the max and min value out and compute an average of the rest\"\n",
    "    annotations.remove(max(annotations))\n",
    "    annotations.remove(min(annotations))\n",
    "    average_grade = sum(annotations)/len(annotations)\n",
    "    if multiclass:\n",
    "        return average_grade\n",
    "    # the binary class of a performance is 1 (accepted) if mode is 3 or higher. 0 (rejected) otherwise\n",
    "    return 1 if average_grade >= 3 else 0\n",
    "  \n",
    "def load_rhythmic_performances():\n",
    "    features = []\n",
    "    target_multiclass = []\n",
    "    target_binary = []\n",
    "    \n",
    "    DISTANCE_FUNCTIONS = [levenshtein, beat_difference]\n",
    "    \n",
    "    with open('../data/Performances Annotations/listfiles.txt', 'r') as list_of_files,\\\n",
    "         open('../data/Only Performances/listperformances', 'r') as performances_file,\\\n",
    "         open('../data/Only Performances/MAST Onsets [Performances] [BINS]', 'r') as performances_onsets,\\\n",
    "         open('../data/Only References/listreferences', 'r') as references_file,\\\n",
    "         open('../data/Only References/MAST Onsets [References] [BINS]', 'r') as references_onsets:        \n",
    "        \n",
    "        for performance in list_of_files.readlines():\n",
    "            performance = performance.strip()\n",
    "            index = get_audio_index(performance,'performance')\n",
    "            \n",
    "            performance_bins = get_info(index, 'performance', 'MAST Onsets [{}s] [BINS]')\n",
    "            reference_bins = get_info(index, 'reference', 'MAST Onsets [{}s] [BINS]')              \n",
    "            \n",
    "            # model features\n",
    "            features.append([distance_function(performance_bins, reference_bins) for distance_function in DISTANCE_FUNCTIONS])         \n",
    "            \n",
    "            # model targets\n",
    "            target_multiclass.append(get_class_for_performance(performance))\n",
    "            target_binary.append(get_class_for_performance(performance, multiclass=False))\n",
    "            \n",
    "    return sklearn.datasets.base.Bunch(data=np.asarray(features), target_multiclass=np.asarray(target_multiclass), target_binary=np.asarray(target_binary))   "
   ]
  },
  {
   "cell_type": "markdown",
   "metadata": {},
   "source": [
    "### Next, we use the prepared data to train/test a Logistic Regression model for binary classification and a Linear Regression model for checking the mean average error. We are using a 5-fold cross validation (i.e. test size: 20%). The learning curves ar mean error are shown below."
   ]
  },
  {
   "cell_type": "code",
   "execution_count": 154,
   "metadata": {
    "scrolled": false
   },
   "outputs": [
    {
     "name": "stdout",
     "output_type": "stream",
     "text": [
      "Absolute mean error (multi-class): 0.625061859102\n"
     ]
    },
    {
     "data": {
      "image/png": "[encoded data removed]",
      "text/plain": [
       "<Figure size 432x288 with 1 Axes>"
      ]
     },
     "metadata": {
      "needs_background": "light"
     },
     "output_type": "display_data"
    }
   ],
   "source": [
    "import numpy as np \n",
    "import matplotlib.pyplot as plt\n",
    "\n",
    "from sklearn.linear_model import LinearRegression, LogisticRegression\n",
    "from sklearn.model_selection import train_test_split, learning_curve, KFold, cross_val_score\n",
    "from sklearn.metrics import mean_squared_error\n",
    "\n",
    "\n",
    "def plot_learning_curve(estimator, title, X, y, ylim=None, cv=None,\n",
    "                        n_jobs=None, train_sizes=np.linspace(.1, 1.0, 5)):\n",
    "    plt.figure()\n",
    "    plt.title(title)\n",
    "    if ylim is not None:\n",
    "        plt.ylim(*ylim)\n",
    "    plt.xlabel(\"Training examples\")\n",
    "    plt.ylabel(\"Score\")\n",
    "    train_sizes, train_scores, test_scores = learning_curve(\n",
    "        estimator, X, y, cv=cv, n_jobs=n_jobs, train_sizes=train_sizes)    \n",
    "    train_scores_mean = np.mean(train_scores, axis=1)\n",
    "    train_scores_std = np.std(train_scores, axis=1)\n",
    "    test_scores_mean = np.mean(test_scores, axis=1)\n",
    "    test_scores_std = np.std(test_scores, axis=1)\n",
    "    plt.grid()\n",
    "    plt.fill_between(train_sizes, train_scores_mean - train_scores_std,\n",
    "                     train_scores_mean + train_scores_std, alpha=0.1,\n",
    "                     color=\"r\")\n",
    "    plt.fill_between(train_sizes, test_scores_mean - test_scores_std,\n",
    "                     test_scores_mean + test_scores_std, alpha=0.1, color=\"g\")\n",
    "    plt.plot(train_sizes, train_scores_mean, 'o-', color=\"r\",\n",
    "             label=\"Training score\")\n",
    "    plt.plot(train_sizes, test_scores_mean, 'o-', color=\"g\",\n",
    "             label=\"Cross-validation score\")\n",
    "\n",
    "    plt.legend(loc=\"best\")\n",
    "    return plt\n",
    "\n",
    "# loading rhythmic dataset\n",
    "mast = load_rhythmic_performances()\n",
    "X, y_b, y_m = mast.data, mast.target_binary, mast.target_multiclass\n",
    "\n",
    "# setting up a 5-fold cross validation for estimators\n",
    "cv = KFold(n_splits=5, random_state=0, shuffle=True)\n",
    "\n",
    "title = r\"Learning Curves (Logistic Regression / Target: binary)\"\n",
    "logit_reg_estimator = LogisticRegression()\n",
    "plot_learning_curve(logit_reg_estimator, title, X, y_b, (0, 1), cv=cv)\n",
    "\n",
    "linear_reg_estimator = LinearRegression()\n",
    "\n",
    "cross_val_errors = cross_val_score(linear_regression, X, y_m, scoring='neg_mean_absolute_error', cv=cv)\n",
    "print(\"Absolute mean error (multi-class):\", abs(sum(cross_val_errors)/len(cross_val_errors)))"
   ]
  },
  {
   "cell_type": "code",
   "execution_count": null,
   "metadata": {},
   "outputs": [],
   "source": []
  }
 ],
 "metadata": {
  "kernelspec": {
   "display_name": "Python 3",
   "language": "python",
   "name": "python3"
  },
  "language_info": {
   "codemirror_mode": {
    "name": "ipython",
    "version": 3
   },
   "file_extension": ".py",
   "mimetype": "text/x-python",
   "name": "python",
   "nbconvert_exporter": "python",
   "pygments_lexer": "ipython3",
   "version": "3.5.2"
  }
 },
 "nbformat": 4,
 "nbformat_minor": 2
}
