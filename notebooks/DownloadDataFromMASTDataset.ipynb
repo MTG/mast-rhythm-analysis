{
 "cells": [
  {
   "cell_type": "markdown",
   "metadata": {},
   "source": [
    "# Downloading audio files from MAST Rhytmic subset\n",
    "\n",
    "### This is an auxiliary notebook which targets at the download of the rhythmic references and performances properly annotated\n",
    "\n",
    "\n",
    "###  All the downloaded data will be available in the \"data\" folder in the root of this project. The _Only Performances_ directory contains all the performances along with a _listperformances_ file which contains the list of all file names. The _Only References_ directory contains all the references along with a _listreferences_ file which contains the list of all file names. Please check that the i-eth file in the _listreferences_ file is the reference for the i-eth file in the _listperformances_ file\n",
    "\n"
   ]
  },
  {
   "cell_type": "code",
   "execution_count": 34,
   "metadata": {},
   "outputs": [
    {
     "name": "stdout",
     "output_type": "stream",
     "text": [
      "Downloading file ../data/MAST subset [References].tar.xz\n",
      "Finished downloading data\n",
      "\n",
      "Downloading file ../data/MAST subset [Performances].tar.xz\n",
      "Finished downloading data\n",
      "\n",
      "All data have been downloaded!\n"
     ]
    }
   ],
   "source": [
    "import urllib.request\n",
    "import os\n",
    "import tarfile\n",
    "\n",
    "\n",
    "URL = \"https://docs.google.com/uc?export=download\"\n",
    "\n",
    "# one must request for the files urls\n",
    "FILES = {\n",
    "    '<supressed url>' : 'MAST subset [References].tar.xz',\n",
    "    '<supressed url>' : 'MAST subset [Performances].tar.xz'\n",
    "}\n",
    "\n",
    "DESTINATION_FOLDER = \"../data/\"\n",
    "\n",
    "if not os.path.exists(DESTINATION_FOLDER):\n",
    "    os.makedirs(DESTINATION_FOLDER)\n",
    "\n",
    "for file_url in FILES.keys():\n",
    "    file_name = FILES[file_url]\n",
    "    \n",
    "    print(\"Downloading file %s\" % os.path.join(DESTINATION_FOLDER, file_name))\n",
    "    \n",
    "    urllib.request.urlretrieve(file_url, os.path.join(DESTINATION_FOLDER, file_name))\n",
    "    \n",
    "    # extracting file\n",
    "    tar = tarfile.open(os.path.join(DESTINATION_FOLDER, file_name))\n",
    "    tar.extractall(DESTINATION_FOLDER)\n",
    "    tar.close()\n",
    "\n",
    "    # remove auxiliar file\n",
    "    os.remove(os.path.join(DESTINATION_FOLDER, file_name))\n",
    "\n",
    "    print(\"Finished downloading data\\n\")\n",
    "    \n",
    "print(\"All data have been downloaded!\")\n",
    "    "
   ]
  },
  {
   "cell_type": "code",
   "execution_count": null,
   "metadata": {},
   "outputs": [],
   "source": []
  },
  {
   "cell_type": "code",
   "execution_count": null,
   "metadata": {},
   "outputs": [],
   "source": []
  },
  {
   "cell_type": "code",
   "execution_count": null,
   "metadata": {},
   "outputs": [],
   "source": []
  }
 ],
 "metadata": {
  "kernelspec": {
   "display_name": "Python 3",
   "language": "python",
   "name": "python3"
  },
  "language_info": {
   "codemirror_mode": {
    "name": "ipython",
    "version": 3
   },
   "file_extension": ".py",
   "mimetype": "text/x-python",
   "name": "python",
   "nbconvert_exporter": "python",
   "pygments_lexer": "ipython3",
   "version": "3.5.2"
  }
 },
 "nbformat": 4,
 "nbformat_minor": 2
}
