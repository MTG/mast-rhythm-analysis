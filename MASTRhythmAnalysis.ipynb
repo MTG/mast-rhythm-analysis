{
 "cells": [
  {
   "cell_type": "markdown",
   "metadata": {},
   "source": [
    "# MAST Rhytmic Analysis\n",
    "\n",
    "This notebook aims at the rhytmic analysis of percussion performances.\n",
    "\n",
    "Along its content, the notebook extracts and analyses onset information comprising student's and teacher's performances so we can then experiment with Machine Learning approaches to check useful distance metrics that better assess student's rhytmic performances.\n",
    "\n",
    "[NOTE] For the proper execution of this beta notebook, Please ensure that the MAST rhytmic dataset is located in the \"data\" folder according to the following hierachy:\n",
    "\n",
    "_PROJECT ROOT_  \n",
    " &nbsp;&nbsp;&nbsp;&nbsp; data/  \n",
    " &nbsp;&nbsp;&nbsp;&nbsp;&nbsp;&nbsp;&nbsp;&nbsp; MAST_rhythm_subset/  \n",
    " &nbsp;&nbsp;&nbsp;&nbsp;&nbsp;&nbsp;&nbsp;&nbsp;&nbsp;&nbsp;&nbsp;&nbsp;_ALL DATA FILES_\n",
    "    \n",
    "\n",
    "\n",
    "We can now start our analysis by importing all MIR necessary libraries:"
   ]
  },
  {
   "cell_type": "code",
   "execution_count": 3,
   "metadata": {},
   "outputs": [],
   "source": [
    "import os\n",
    "from essentia.standard import *\n",
    "from essentia import Pool, array\n",
    "import matplotlib.pyplot as plt\n",
    "import numpy as np\n",
    "import IPython.display as ipd"
   ]
  },
  {
   "cell_type": "code",
   "execution_count": null,
   "metadata": {},
   "outputs": [],
   "source": []
  }
 ],
 "metadata": {
  "kernelspec": {
   "display_name": "Python 3",
   "language": "python",
   "name": "python3"
  },
  "language_info": {
   "codemirror_mode": {
    "name": "ipython",
    "version": 3
   },
   "file_extension": ".py",
   "mimetype": "text/x-python",
   "name": "python",
   "nbconvert_exporter": "python",
   "pygments_lexer": "ipython3",
   "version": "3.5.2"
  }
 },
 "nbformat": 4,
 "nbformat_minor": 2
}
