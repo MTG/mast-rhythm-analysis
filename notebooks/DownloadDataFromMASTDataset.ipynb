{
 "cells": [
  {
   "cell_type": "markdown",
   "metadata": {},
   "source": [
    "# Downloading audio files from MAST Rhytmic subset\n",
    "\n",
    "This is an auxiliary notebook that targets at the download of audio and annotations consisting of user evaluations for a subset of references and performances from the original MAST Rhythmic dataset.\n",
    "\n",
    "All the downloaded data will be stored in the _data/_ folder in the root of this project. The _Only Performances_ directory will contain the audio for all performances along with a _listperformances_ file which lists all file names. The _Only References_ directory will contain the audio for all references along with a _listreferences_ file which lists all file names. Please note that the i-eth file in the _listreferences_ file is the reference for the i-eth performance listed in in the _listperformances_ file"
   ]
  },
  {
   "cell_type": "code",
   "execution_count": 2,
   "metadata": {},
   "outputs": [
    {
     "name": "stdout",
     "output_type": "stream",
     "text": [
      "Downloading file MAST subset [References].tar.xz\n",
      "Downloading file Performances Annotations.tar.gz\n",
      "Downloading file MAST subset [Performances].tar.xz\n",
      "\n",
      "All folders and files were downloaded and stored in ../data/\n"
     ]
    }
   ],
   "source": [
    "import urllib.request\n",
    "import os\n",
    "import tarfile\n",
    "\n",
    "\n",
    "FILES = {\n",
    "    'https://www.dropbox.com/s/54w5ohm9rh9q9cb/MAST%20subset%20%5BReferences%5D.tar.xz?dl=1' : 'MAST subset [References].tar.xz',\n",
    "    'https://www.dropbox.com/s/r3td6p1ncpvmrzy/MAST%20subset%20%5BPerformances%5D.tar.xz?dl=1' : 'MAST subset [Performances].tar.xz',\n",
    "    'https://www.dropbox.com/s/yzvicftsjt6rr8w/Performances%20Annotations.tar.xz?dl=1' : 'Performances Annotations.tar.gz'\n",
    "}\n",
    "\n",
    "DESTINATION_FOLDER = \"../data/\"\n",
    "\n",
    "if not os.path.exists(DESTINATION_FOLDER):\n",
    "    os.makedirs(DESTINATION_FOLDER)\n",
    "\n",
    "for file_url in FILES.keys():\n",
    "    file_name = FILES[file_url]\n",
    "    \n",
    "    print(\"Downloading file %s\" %  file_name)\n",
    "    \n",
    "    # downloading file\n",
    "    urllib.request.urlretrieve(file_url, os.path.join(DESTINATION_FOLDER, file_name))\n",
    "    \n",
    "    # extracting file\n",
    "    tar = tarfile.open(os.path.join(DESTINATION_FOLDER, file_name))\n",
    "    tar.extractall(DESTINATION_FOLDER)\n",
    "    tar.close()\n",
    "    os.remove(os.path.join(DESTINATION_FOLDER, file_name))\n",
    "  \n",
    "print()\n",
    "print(\"All folders and files were downloaded and stored in %s\" % DESTINATION_FOLDER)\n",
    "    "
   ]
  }
 ],
 "metadata": {
  "kernelspec": {
   "display_name": "Python 3",
   "language": "python",
   "name": "python3"
  },
  "language_info": {
   "codemirror_mode": {
    "name": "ipython",
    "version": 3
   },
   "file_extension": ".py",
   "mimetype": "text/x-python",
   "name": "python",
   "nbconvert_exporter": "python",
   "pygments_lexer": "ipython3",
   "version": "3.5.2"
  }
 },
 "nbformat": 4,
 "nbformat_minor": 2
}
