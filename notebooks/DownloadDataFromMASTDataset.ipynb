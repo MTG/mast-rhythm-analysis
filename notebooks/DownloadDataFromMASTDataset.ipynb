{
 "cells": [
  {
   "cell_type": "markdown",
   "metadata": {},
   "source": [
    "# Downloading audio files from MAST Rhytmic Dataset\n",
    "\n",
    "This is an auxiliary notebook which intends to download the necessary files to our rhytmic analytics described on the MastRhythmAnalysis notebook.\n",
    "\n",
    "All download data will be stored in the \"data\" folder on the root of this project\n",
    "\n",
    "#TODO# Ask for a publicly hosted full MAST dataset so we can download it realtime on this notebook. Meanwhile I'll be using the sample provided by Professor Baris."
   ]
  },
  {
   "cell_type": "code",
   "execution_count": null,
   "metadata": {},
   "outputs": [],
   "source": []
  }
 ],
 "metadata": {
  "kernelspec": {
   "display_name": "Python 3",
   "language": "python",
   "name": "python3"
  },
  "language_info": {
   "codemirror_mode": {
    "name": "ipython",
    "version": 3
   },
   "file_extension": ".py",
   "mimetype": "text/x-python",
   "name": "python",
   "nbconvert_exporter": "python",
   "pygments_lexer": "ipython3",
   "version": "3.5.2"
  }
 },
 "nbformat": 4,
 "nbformat_minor": 2
}
